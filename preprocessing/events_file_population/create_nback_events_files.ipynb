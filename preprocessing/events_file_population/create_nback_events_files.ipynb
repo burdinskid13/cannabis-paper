{
 "cells": [
  {
   "cell_type": "code",
   "execution_count": 1,
   "id": "388fbaea",
   "metadata": {},
   "outputs": [],
   "source": [
    "import os\n",
    "import pandas as pd\n",
    "import glob\n",
    "import numpy as np"
   ]
  },
  {
   "cell_type": "code",
   "execution_count": 2,
   "id": "d1bb443f",
   "metadata": {},
   "outputs": [
    {
     "data": {
      "text/plain": [
       "'/net/vast-storage.ib.cluster/scratch/scratch/Tue/dclb/mmc/code/preprocessing/events_file_population'"
      ]
     },
     "execution_count": 2,
     "metadata": {},
     "output_type": "execute_result"
    }
   ],
   "source": [
    "os.getcwd()"
   ]
  },
  {
   "cell_type": "code",
   "execution_count": 3,
   "id": "a8531ad0",
   "metadata": {},
   "outputs": [],
   "source": [
    "twoback = pd.read_csv (\"../../../sourcedata/behavioral/nback/twoback.txt\", sep = '\\t',header = None)"
   ]
  },
  {
   "cell_type": "code",
   "execution_count": 4,
   "id": "8b8733c6",
   "metadata": {},
   "outputs": [
    {
     "name": "stdout",
     "output_type": "stream",
     "text": [
      "     0   1  2\n",
      "0   64  58  1\n",
      "1  203  58  1\n",
      "2  342  58  1\n"
     ]
    }
   ],
   "source": [
    "print(twoback)"
   ]
  },
  {
   "cell_type": "code",
   "execution_count": 5,
   "id": "bc62e081",
   "metadata": {},
   "outputs": [],
   "source": [
    "numrows_twoback = twoback.shape[0]\n",
    "twoback[2]=['twoback' for val in range(0,numrows_twoback)]"
   ]
  },
  {
   "cell_type": "code",
   "execution_count": 6,
   "id": "c91774f3",
   "metadata": {},
   "outputs": [
    {
     "name": "stdout",
     "output_type": "stream",
     "text": [
      "     0   1        2\n",
      "0   64  58  twoback\n",
      "1  203  58  twoback\n",
      "2  342  58  twoback\n"
     ]
    }
   ],
   "source": [
    "print(twoback)"
   ]
  },
  {
   "cell_type": "code",
   "execution_count": 7,
   "id": "9b1631b7",
   "metadata": {},
   "outputs": [],
   "source": [
    "zeroback = pd.read_csv (\"../../../sourcedata/behavioral/nback/zeroback.txt\", sep = '\\t',header = None)"
   ]
  },
  {
   "cell_type": "code",
   "execution_count": 8,
   "id": "5eab14c0",
   "metadata": {},
   "outputs": [
    {
     "name": "stdout",
     "output_type": "stream",
     "text": [
      "     0   1  2\n",
      "0    2  58  1\n",
      "1  141  58  1\n",
      "2  280  58  1\n"
     ]
    }
   ],
   "source": [
    "print(zeroback)"
   ]
  },
  {
   "cell_type": "code",
   "execution_count": 9,
   "id": "7a02a634",
   "metadata": {},
   "outputs": [],
   "source": [
    "numrows_zeroback = zeroback.shape[0]\n",
    "zeroback[2]=['zeroback' for val in range(0,numrows_zeroback)]"
   ]
  },
  {
   "cell_type": "code",
   "execution_count": 10,
   "id": "7f5622e3",
   "metadata": {},
   "outputs": [
    {
     "name": "stdout",
     "output_type": "stream",
     "text": [
      "     0   1         2\n",
      "0    2  58  zeroback\n",
      "1  141  58  zeroback\n",
      "2  280  58  zeroback\n"
     ]
    }
   ],
   "source": [
    "print(zeroback)"
   ]
  },
  {
   "cell_type": "code",
   "execution_count": 11,
   "id": "100f9ef0",
   "metadata": {},
   "outputs": [
    {
     "data": {
      "text/html": [
       "<div>\n",
       "<style scoped>\n",
       "    .dataframe tbody tr th:only-of-type {\n",
       "        vertical-align: middle;\n",
       "    }\n",
       "\n",
       "    .dataframe tbody tr th {\n",
       "        vertical-align: top;\n",
       "    }\n",
       "\n",
       "    .dataframe thead th {\n",
       "        text-align: right;\n",
       "    }\n",
       "</style>\n",
       "<table border=\"1\" class=\"dataframe\">\n",
       "  <thead>\n",
       "    <tr style=\"text-align: right;\">\n",
       "      <th></th>\n",
       "      <th>onset</th>\n",
       "      <th>duration</th>\n",
       "      <th>trial_type</th>\n",
       "    </tr>\n",
       "  </thead>\n",
       "  <tbody>\n",
       "    <tr>\n",
       "      <th>0</th>\n",
       "      <td>2</td>\n",
       "      <td>58</td>\n",
       "      <td>zeroback</td>\n",
       "    </tr>\n",
       "    <tr>\n",
       "      <th>1</th>\n",
       "      <td>141</td>\n",
       "      <td>58</td>\n",
       "      <td>zeroback</td>\n",
       "    </tr>\n",
       "    <tr>\n",
       "      <th>2</th>\n",
       "      <td>280</td>\n",
       "      <td>58</td>\n",
       "      <td>zeroback</td>\n",
       "    </tr>\n",
       "    <tr>\n",
       "      <th>3</th>\n",
       "      <td>64</td>\n",
       "      <td>58</td>\n",
       "      <td>twoback</td>\n",
       "    </tr>\n",
       "    <tr>\n",
       "      <th>4</th>\n",
       "      <td>203</td>\n",
       "      <td>58</td>\n",
       "      <td>twoback</td>\n",
       "    </tr>\n",
       "    <tr>\n",
       "      <th>5</th>\n",
       "      <td>342</td>\n",
       "      <td>58</td>\n",
       "      <td>twoback</td>\n",
       "    </tr>\n",
       "  </tbody>\n",
       "</table>\n",
       "</div>"
      ],
      "text/plain": [
       "   onset  duration trial_type\n",
       "0      2        58   zeroback\n",
       "1    141        58   zeroback\n",
       "2    280        58   zeroback\n",
       "3     64        58    twoback\n",
       "4    203        58    twoback\n",
       "5    342        58    twoback"
      ]
     },
     "execution_count": 11,
     "metadata": {},
     "output_type": "execute_result"
    }
   ],
   "source": [
    "events_df = pd.concat([zeroback,twoback], ignore_index=True)\n",
    "events_df.columns = ['onset', 'duration', 'trial_type']\n",
    "events_df"
   ]
  },
  {
   "cell_type": "code",
   "execution_count": 12,
   "id": "3f27d0c2",
   "metadata": {},
   "outputs": [
    {
     "data": {
      "text/html": [
       "<div>\n",
       "<style scoped>\n",
       "    .dataframe tbody tr th:only-of-type {\n",
       "        vertical-align: middle;\n",
       "    }\n",
       "\n",
       "    .dataframe tbody tr th {\n",
       "        vertical-align: top;\n",
       "    }\n",
       "\n",
       "    .dataframe thead th {\n",
       "        text-align: right;\n",
       "    }\n",
       "</style>\n",
       "<table border=\"1\" class=\"dataframe\">\n",
       "  <thead>\n",
       "    <tr style=\"text-align: right;\">\n",
       "      <th></th>\n",
       "      <th>onset</th>\n",
       "      <th>duration</th>\n",
       "      <th>trial_type</th>\n",
       "    </tr>\n",
       "  </thead>\n",
       "  <tbody>\n",
       "    <tr>\n",
       "      <th>0</th>\n",
       "      <td>2</td>\n",
       "      <td>58</td>\n",
       "      <td>zeroback</td>\n",
       "    </tr>\n",
       "    <tr>\n",
       "      <th>3</th>\n",
       "      <td>64</td>\n",
       "      <td>58</td>\n",
       "      <td>twoback</td>\n",
       "    </tr>\n",
       "    <tr>\n",
       "      <th>1</th>\n",
       "      <td>141</td>\n",
       "      <td>58</td>\n",
       "      <td>zeroback</td>\n",
       "    </tr>\n",
       "    <tr>\n",
       "      <th>4</th>\n",
       "      <td>203</td>\n",
       "      <td>58</td>\n",
       "      <td>twoback</td>\n",
       "    </tr>\n",
       "    <tr>\n",
       "      <th>2</th>\n",
       "      <td>280</td>\n",
       "      <td>58</td>\n",
       "      <td>zeroback</td>\n",
       "    </tr>\n",
       "    <tr>\n",
       "      <th>5</th>\n",
       "      <td>342</td>\n",
       "      <td>58</td>\n",
       "      <td>twoback</td>\n",
       "    </tr>\n",
       "  </tbody>\n",
       "</table>\n",
       "</div>"
      ],
      "text/plain": [
       "   onset  duration trial_type\n",
       "0      2        58   zeroback\n",
       "3     64        58    twoback\n",
       "1    141        58   zeroback\n",
       "4    203        58    twoback\n",
       "2    280        58   zeroback\n",
       "5    342        58    twoback"
      ]
     },
     "execution_count": 12,
     "metadata": {},
     "output_type": "execute_result"
    }
   ],
   "source": [
    "events_df.sort_values(by='onset', inplace=True, ascending=True)\n",
    "events_df"
   ]
  },
  {
   "cell_type": "code",
   "execution_count": 13,
   "id": "386995b3",
   "metadata": {},
   "outputs": [],
   "source": [
    "nback_events_locations = (glob.glob(\"../../../sub-*/ses-*/func/*nback*events.tsv\")) #this is the actual path, but troubleshooting with copies elsewhere first\n",
    "\n",
    "#nback_events_locations = (glob.glob(\"../../*nback*events.tsv\"))"
   ]
  },
  {
   "cell_type": "code",
   "execution_count": 14,
   "id": "995a5d02",
   "metadata": {},
   "outputs": [
    {
     "name": "stdout",
     "output_type": "stream",
     "text": [
      "['../../../sub-HC006/ses-baseline/func/sub-HC006_ses-baseline_task-nback_rec-moco_run-1_events.tsv', '../../../sub-HC006/ses-baseline/func/sub-HC006_ses-baseline_task-nback_rec-unco_run-1_events.tsv', '../../../sub-HC007/ses-baseline/func/sub-HC007_ses-baseline_task-nback_rec-moco_run-1_events.tsv', '../../../sub-HC007/ses-baseline/func/sub-HC007_ses-baseline_task-nback_rec-unco_run-1_events.tsv', '../../../sub-HC008/ses-baseline/func/sub-HC008_ses-baseline_task-nback_rec-moco_run-1_events.tsv', '../../../sub-HC008/ses-baseline/func/sub-HC008_ses-baseline_task-nback_rec-unco_run-1_events.tsv', '../../../sub-HC009/ses-baseline/func/sub-HC009_ses-baseline_task-nback_rec-moco_run-1_events.tsv', '../../../sub-HC009/ses-baseline/func/sub-HC009_ses-baseline_task-nback_rec-unco_run-1_events.tsv', '../../../sub-HC010/ses-baseline/func/sub-HC010_ses-baseline_task-nback_rec-moco_run-1_events.tsv', '../../../sub-HC010/ses-baseline/func/sub-HC010_ses-baseline_task-nback_rec-unco_run-1_events.tsv', '../../../sub-HC011/ses-baseline/func/sub-HC011_ses-baseline_task-nback_rec-moco_run-1_events.tsv', '../../../sub-HC011/ses-baseline/func/sub-HC011_ses-baseline_task-nback_rec-unco_run-1_events.tsv', '../../../sub-HC012/ses-baseline/func/sub-HC012_ses-baseline_task-nback_rec-moco_run-1_events.tsv', '../../../sub-HC012/ses-baseline/func/sub-HC012_ses-baseline_task-nback_rec-unco_run-1_events.tsv', '../../../sub-HC013/ses-baseline/func/sub-HC013_ses-baseline_task-nback_rec-moco_run-1_events.tsv', '../../../sub-HC013/ses-baseline/func/sub-HC013_ses-baseline_task-nback_rec-unco_run-1_events.tsv', '../../../sub-HC014/ses-baseline/func/sub-HC014_ses-baseline_task-nback_rec-moco_run-1_events.tsv', '../../../sub-HC014/ses-baseline/func/sub-HC014_ses-baseline_task-nback_rec-unco_run-1_events.tsv', '../../../sub-HC016/ses-baseline/func/sub-HC016_ses-baseline_task-nback_rec-moco_run-1_events.tsv', '../../../sub-HC016/ses-baseline/func/sub-HC016_ses-baseline_task-nback_rec-unco_run-1_events.tsv', '../../../sub-HC017/ses-baseline/func/sub-HC017_ses-baseline_task-nback_rec-moco_run-1_events.tsv', '../../../sub-HC017/ses-baseline/func/sub-HC017_ses-baseline_task-nback_rec-unco_run-1_events.tsv', '../../../sub-HC018/ses-baseline/func/sub-HC018_ses-baseline_task-nback_rec-moco_run-1_events.tsv', '../../../sub-HC018/ses-baseline/func/sub-HC018_ses-baseline_task-nback_rec-unco_run-1_events.tsv', '../../../sub-HC019/ses-baseline/func/sub-HC019_ses-baseline_task-nback_rec-moco_run-1_events.tsv', '../../../sub-HC019/ses-baseline/func/sub-HC019_ses-baseline_task-nback_rec-unco_run-1_events.tsv', '../../../sub-HC020/ses-baseline/func/sub-HC020_ses-baseline_task-nback_rec-moco_run-1_events.tsv', '../../../sub-HC020/ses-baseline/func/sub-HC020_ses-baseline_task-nback_rec-unco_run-1_events.tsv', '../../../sub-HC021/ses-baseline/func/sub-HC021_ses-baseline_task-nback_rec-moco_run-1_events.tsv', '../../../sub-HC021/ses-baseline/func/sub-HC021_ses-baseline_task-nback_rec-unco_run-1_events.tsv', '../../../sub-HC022/ses-baseline/func/sub-HC022_ses-baseline_task-nback_rec-moco_run-1_events.tsv', '../../../sub-HC022/ses-baseline/func/sub-HC022_ses-baseline_task-nback_rec-unco_run-1_events.tsv', '../../../sub-HC023/ses-baseline/func/sub-HC023_ses-baseline_task-nback_rec-moco_run-1_events.tsv', '../../../sub-HC023/ses-baseline/func/sub-HC023_ses-baseline_task-nback_rec-unco_run-1_events.tsv', '../../../sub-HC024/ses-baseline/func/sub-HC024_ses-baseline_task-nback_rec-moco_run-1_events.tsv', '../../../sub-HC024/ses-baseline/func/sub-HC024_ses-baseline_task-nback_rec-unco_run-1_events.tsv', '../../../sub-HC025/ses-baseline/func/sub-HC025_ses-baseline_task-nback_rec-moco_run-1_events.tsv', '../../../sub-HC025/ses-baseline/func/sub-HC025_ses-baseline_task-nback_rec-unco_run-1_events.tsv', '../../../sub-HC026/ses-baseline/func/sub-HC026_ses-baseline_task-nback_rec-moco_run-1_events.tsv', '../../../sub-HC026/ses-baseline/func/sub-HC026_ses-baseline_task-nback_rec-unco_run-1_events.tsv', '../../../sub-HC028/ses-baseline/func/sub-HC028_ses-baseline_task-nback_rec-moco_run-1_events.tsv', '../../../sub-HC028/ses-baseline/func/sub-HC028_ses-baseline_task-nback_rec-unco_run-1_events.tsv', '../../../sub-HC029/ses-baseline/func/sub-HC029_ses-baseline_task-nback_rec-moco_run-1_events.tsv', '../../../sub-HC029/ses-baseline/func/sub-HC029_ses-baseline_task-nback_rec-unco_run-1_events.tsv', '../../../sub-HC030/ses-baseline/func/sub-HC030_ses-baseline_task-nback_rec-moco_run-1_events.tsv', '../../../sub-HC030/ses-baseline/func/sub-HC030_ses-baseline_task-nback_rec-unco_run-1_events.tsv', '../../../sub-HC031/ses-baseline/func/sub-HC031_ses-baseline_task-nback_rec-moco_run-1_events.tsv', '../../../sub-HC031/ses-baseline/func/sub-HC031_ses-baseline_task-nback_rec-unco_run-1_events.tsv', '../../../sub-HC032/ses-baseline/func/sub-HC032_ses-baseline_task-nback_rec-moco_run-1_events.tsv', '../../../sub-HC032/ses-baseline/func/sub-HC032_ses-baseline_task-nback_rec-unco_run-1_events.tsv', '../../../sub-HC033/ses-baseline/func/sub-HC033_ses-baseline_task-nback_rec-moco_run-1_events.tsv', '../../../sub-HC033/ses-baseline/func/sub-HC033_ses-baseline_task-nback_rec-unco_run-1_events.tsv', '../../../sub-HC034/ses-baseline/func/sub-HC034_ses-baseline_task-nback_rec-moco_run-1_events.tsv', '../../../sub-HC034/ses-baseline/func/sub-HC034_ses-baseline_task-nback_rec-unco_run-1_events.tsv', '../../../sub-HC035/ses-baseline/func/sub-HC035_ses-baseline_task-nback_rec-moco_run-1_events.tsv', '../../../sub-HC035/ses-baseline/func/sub-HC035_ses-baseline_task-nback_rec-unco_run-1_events.tsv', '../../../sub-HC036/ses-baseline/func/sub-HC036_ses-baseline_task-nback_rec-moco_run-1_events.tsv', '../../../sub-HC036/ses-baseline/func/sub-HC036_ses-baseline_task-nback_rec-unco_run-1_events.tsv', '../../../sub-HC038/ses-baseline/func/sub-HC038_ses-baseline_task-nback_rec-moco_run-1_events.tsv', '../../../sub-HC038/ses-baseline/func/sub-HC038_ses-baseline_task-nback_rec-unco_run-1_events.tsv', '../../../sub-HC039/ses-baseline/func/sub-HC039_ses-baseline_task-nback_rec-moco_run-1_events.tsv', '../../../sub-HC039/ses-baseline/func/sub-HC039_ses-baseline_task-nback_rec-unco_run-1_events.tsv', '../../../sub-HC040/ses-baseline/func/sub-HC040_ses-baseline_task-nback_rec-moco_run-1_events.tsv', '../../../sub-HC040/ses-baseline/func/sub-HC040_ses-baseline_task-nback_rec-unco_run-1_events.tsv', '../../../sub-MM014/ses-1year/func/sub-MM014_ses-1year_task-nback_rec-moco_run-1_events.tsv', '../../../sub-MM014/ses-1year/func/sub-MM014_ses-1year_task-nback_rec-unco_run-1_events.tsv', '../../../sub-MM028/ses-1year/func/sub-MM028_ses-1year_task-nback_rec-moco_run-1_events.tsv', '../../../sub-MM028/ses-1year/func/sub-MM028_ses-1year_task-nback_rec-unco_run-1_events.tsv', '../../../sub-MM044/ses-1year/func/sub-MM044_ses-1year_task-nback_rec-moco_run-1_events.tsv', '../../../sub-MM044/ses-1year/func/sub-MM044_ses-1year_task-nback_rec-unco_run-1_events.tsv', '../../../sub-MM053/ses-1year/func/sub-MM053_ses-1year_task-nback_rec-moco_run-1_events.tsv', '../../../sub-MM053/ses-1year/func/sub-MM053_ses-1year_task-nback_rec-unco_run-1_events.tsv', '../../../sub-MM054/ses-1year/func/sub-MM054_ses-1year_task-nback_rec-moco_run-1_events.tsv', '../../../sub-MM054/ses-1year/func/sub-MM054_ses-1year_task-nback_rec-unco_run-1_events.tsv', '../../../sub-MM062/ses-1year/func/sub-MM062_ses-1year_task-nback_rec-moco_run-1_events.tsv', '../../../sub-MM062/ses-1year/func/sub-MM062_ses-1year_task-nback_rec-unco_run-1_events.tsv', '../../../sub-MM075/ses-1year/func/sub-MM075_ses-1year_task-nback_rec-moco_run-1_events.tsv', '../../../sub-MM075/ses-1year/func/sub-MM075_ses-1year_task-nback_rec-unco_run-1_events.tsv', '../../../sub-MM085/ses-1year/func/sub-MM085_ses-1year_task-nback_rec-moco_run-1_events.tsv', '../../../sub-MM085/ses-1year/func/sub-MM085_ses-1year_task-nback_rec-unco_run-1_events.tsv', '../../../sub-MM086/ses-1year/func/sub-MM086_ses-1year_task-nback_rec-moco_run-1_events.tsv', '../../../sub-MM086/ses-1year/func/sub-MM086_ses-1year_task-nback_rec-unco_run-1_events.tsv', '../../../sub-MM091/ses-1year/func/sub-MM091_ses-1year_task-nback_rec-moco_run-1_events.tsv', '../../../sub-MM091/ses-1year/func/sub-MM091_ses-1year_task-nback_rec-unco_run-1_events.tsv', '../../../sub-MM095/ses-1year/func/sub-MM095_ses-1year_task-nback_rec-moco_run-1_events.tsv', '../../../sub-MM095/ses-1year/func/sub-MM095_ses-1year_task-nback_rec-unco_run-1_events.tsv', '../../../sub-MM096/ses-1year/func/sub-MM096_ses-1year_task-nback_rec-moco_run-1_events.tsv', '../../../sub-MM096/ses-1year/func/sub-MM096_ses-1year_task-nback_rec-unco_run-1_events.tsv', '../../../sub-MM100/ses-1year/func/sub-MM100_ses-1year_task-nback_rec-moco_run-1_events.tsv', '../../../sub-MM100/ses-1year/func/sub-MM100_ses-1year_task-nback_rec-unco_run-1_events.tsv', '../../../sub-MM103/ses-1year/func/sub-MM103_ses-1year_task-nback_rec-moco_run-1_events.tsv', '../../../sub-MM103/ses-1year/func/sub-MM103_ses-1year_task-nback_rec-unco_run-1_events.tsv', '../../../sub-MM104/ses-1year/func/sub-MM104_ses-1year_task-nback_rec-moco_run-1_events.tsv', '../../../sub-MM104/ses-1year/func/sub-MM104_ses-1year_task-nback_rec-unco_run-1_events.tsv', '../../../sub-MM104/ses-baseline/func/sub-MM104_ses-baseline_task-nback_rec-moco_run-1_events.tsv', '../../../sub-MM104/ses-baseline/func/sub-MM104_ses-baseline_task-nback_rec-unco_run-1_events.tsv', '../../../sub-MM112/ses-1year/func/sub-MM112_ses-1year_task-nback_rec-moco_run-1_events.tsv', '../../../sub-MM112/ses-1year/func/sub-MM112_ses-1year_task-nback_rec-unco_run-1_events.tsv', '../../../sub-MM122/ses-1year/func/sub-MM122_ses-1year_task-nback_rec-moco_run-1_events.tsv', '../../../sub-MM122/ses-1year/func/sub-MM122_ses-1year_task-nback_rec-unco_run-1_events.tsv', '../../../sub-MM127/ses-1year/func/sub-MM127_ses-1year_task-nback_rec-moco_run-1_events.tsv', '../../../sub-MM127/ses-1year/func/sub-MM127_ses-1year_task-nback_rec-unco_run-1_events.tsv', '../../../sub-MM127/ses-baseline/func/sub-MM127_ses-baseline_task-nback_rec-moco_run-1_events.tsv', '../../../sub-MM127/ses-baseline/func/sub-MM127_ses-baseline_task-nback_rec-unco_run-1_events.tsv', '../../../sub-MM129/ses-1year/func/sub-MM129_ses-1year_task-nback_rec-moco_run-1_events.tsv', '../../../sub-MM129/ses-1year/func/sub-MM129_ses-1year_task-nback_rec-unco_run-1_events.tsv', '../../../sub-MM129/ses-baseline/func/sub-MM129_ses-baseline_task-nback_rec-moco_run-1_events.tsv', '../../../sub-MM129/ses-baseline/func/sub-MM129_ses-baseline_task-nback_rec-unco_run-1_events.tsv', '../../../sub-MM131/ses-1year/func/sub-MM131_ses-1year_task-nback_rec-moco_run-1_events.tsv', '../../../sub-MM131/ses-1year/func/sub-MM131_ses-1year_task-nback_rec-unco_run-1_events.tsv', '../../../sub-MM131/ses-baseline/func/sub-MM131_ses-baseline_task-nback_rec-moco_run-1_events.tsv', '../../../sub-MM131/ses-baseline/func/sub-MM131_ses-baseline_task-nback_rec-unco_run-1_events.tsv', '../../../sub-MM132/ses-1year/func/sub-MM132_ses-1year_task-nback_rec-moco_run-1_events.tsv', '../../../sub-MM132/ses-1year/func/sub-MM132_ses-1year_task-nback_rec-unco_run-1_events.tsv', '../../../sub-MM132/ses-baseline/func/sub-MM132_ses-baseline_task-nback_rec-moco_run-1_events.tsv', '../../../sub-MM132/ses-baseline/func/sub-MM132_ses-baseline_task-nback_rec-unco_run-1_events.tsv', '../../../sub-MM135/ses-1year/func/sub-MM135_ses-1year_task-nback_rec-moco_run-1_events.tsv', '../../../sub-MM135/ses-1year/func/sub-MM135_ses-1year_task-nback_rec-unco_run-1_events.tsv', '../../../sub-MM135/ses-baseline/func/sub-MM135_ses-baseline_task-nback_rec-moco_run-1_events.tsv', '../../../sub-MM135/ses-baseline/func/sub-MM135_ses-baseline_task-nback_rec-unco_run-1_events.tsv', '../../../sub-MM136/ses-1year/func/sub-MM136_ses-1year_task-nback_rec-moco_run-1_events.tsv', '../../../sub-MM136/ses-1year/func/sub-MM136_ses-1year_task-nback_rec-unco_run-1_events.tsv', '../../../sub-MM136/ses-baseline/func/sub-MM136_ses-baseline_task-nback_rec-moco_run-1_events.tsv', '../../../sub-MM136/ses-baseline/func/sub-MM136_ses-baseline_task-nback_rec-unco_run-1_events.tsv', '../../../sub-MM140/ses-1year/func/sub-MM140_ses-1year_task-nback_rec-moco_run-1_events.tsv', '../../../sub-MM140/ses-1year/func/sub-MM140_ses-1year_task-nback_rec-unco_run-1_events.tsv', '../../../sub-MM140/ses-baseline/func/sub-MM140_ses-baseline_task-nback_rec-moco_run-1_events.tsv', '../../../sub-MM140/ses-baseline/func/sub-MM140_ses-baseline_task-nback_rec-unco_run-1_events.tsv', '../../../sub-MM141/ses-baseline/func/sub-MM141_ses-baseline_task-nback_rec-moco_run-1_events.tsv', '../../../sub-MM141/ses-baseline/func/sub-MM141_ses-baseline_task-nback_rec-unco_run-1_events.tsv', '../../../sub-MM147/ses-1year/func/sub-MM147_ses-1year_task-nback_rec-moco_run-1_events.tsv', '../../../sub-MM147/ses-1year/func/sub-MM147_ses-1year_task-nback_rec-unco_run-1_events.tsv', '../../../sub-MM147/ses-baseline/func/sub-MM147_ses-baseline_task-nback_rec-moco_run-1_events.tsv', '../../../sub-MM147/ses-baseline/func/sub-MM147_ses-baseline_task-nback_rec-unco_run-1_events.tsv', '../../../sub-MM148/ses-1year/func/sub-MM148_ses-1year_task-nback_rec-moco_run-1_events.tsv', '../../../sub-MM148/ses-1year/func/sub-MM148_ses-1year_task-nback_rec-unco_run-1_events.tsv', '../../../sub-MM148/ses-baseline/func/sub-MM148_ses-baseline_task-nback_rec-moco_run-1_events.tsv', '../../../sub-MM148/ses-baseline/func/sub-MM148_ses-baseline_task-nback_rec-unco_run-1_events.tsv', '../../../sub-MM151/ses-1year/func/sub-MM151_ses-1year_task-nback_rec-moco_run-1_events.tsv', '../../../sub-MM151/ses-1year/func/sub-MM151_ses-1year_task-nback_rec-unco_run-1_events.tsv', '../../../sub-MM151/ses-baseline/func/sub-MM151_ses-baseline_task-nback_rec-moco_run-1_events.tsv', '../../../sub-MM151/ses-baseline/func/sub-MM151_ses-baseline_task-nback_rec-unco_run-1_events.tsv', '../../../sub-MM154/ses-1year/func/sub-MM154_ses-1year_task-nback_rec-moco_run-1_events.tsv', '../../../sub-MM154/ses-1year/func/sub-MM154_ses-1year_task-nback_rec-unco_run-1_events.tsv', '../../../sub-MM154/ses-baseline/func/sub-MM154_ses-baseline_task-nback_rec-moco_run-1_events.tsv', '../../../sub-MM154/ses-baseline/func/sub-MM154_ses-baseline_task-nback_rec-unco_run-1_events.tsv', '../../../sub-MM156/ses-baseline/func/sub-MM156_ses-baseline_task-nback_rec-moco_run-1_events.tsv', '../../../sub-MM156/ses-baseline/func/sub-MM156_ses-baseline_task-nback_rec-unco_run-1_events.tsv', '../../../sub-MM160/ses-1year/func/sub-MM160_ses-1year_task-nback_rec-moco_run-1_events.tsv', '../../../sub-MM160/ses-1year/func/sub-MM160_ses-1year_task-nback_rec-unco_run-1_events.tsv', '../../../sub-MM160/ses-baseline/func/sub-MM160_ses-baseline_task-nback_rec-moco_run-1_events.tsv', '../../../sub-MM160/ses-baseline/func/sub-MM160_ses-baseline_task-nback_rec-unco_run-1_events.tsv', '../../../sub-MM166/ses-1year/func/sub-MM166_ses-1year_task-nback_rec-moco_run-1_events.tsv', '../../../sub-MM166/ses-1year/func/sub-MM166_ses-1year_task-nback_rec-unco_run-1_events.tsv', '../../../sub-MM166/ses-baseline/func/sub-MM166_ses-baseline_task-nback_rec-moco_run-1_events.tsv', '../../../sub-MM166/ses-baseline/func/sub-MM166_ses-baseline_task-nback_rec-unco_run-1_events.tsv', '../../../sub-MM177/ses-1year/func/sub-MM177_ses-1year_task-nback_rec-moco_run-1_events.tsv', '../../../sub-MM177/ses-1year/func/sub-MM177_ses-1year_task-nback_rec-unco_run-1_events.tsv', '../../../sub-MM177/ses-baseline/func/sub-MM177_ses-baseline_task-nback_rec-moco_run-1_events.tsv', '../../../sub-MM177/ses-baseline/func/sub-MM177_ses-baseline_task-nback_rec-unco_run-1_events.tsv', '../../../sub-MM179/ses-1year/func/sub-MM179_ses-1year_task-nback_rec-moco_run-1_events.tsv', '../../../sub-MM179/ses-1year/func/sub-MM179_ses-1year_task-nback_rec-unco_run-1_events.tsv', '../../../sub-MM179/ses-baseline/func/sub-MM179_ses-baseline_task-nback_rec-moco_run-1_events.tsv', '../../../sub-MM179/ses-baseline/func/sub-MM179_ses-baseline_task-nback_rec-unco_run-1_events.tsv', '../../../sub-MM185/ses-baseline/func/sub-MM185_ses-baseline_task-nback_rec-moco_run-1_events.tsv', '../../../sub-MM185/ses-baseline/func/sub-MM185_ses-baseline_task-nback_rec-unco_run-1_events.tsv', '../../../sub-MM188/ses-1year/func/sub-MM188_ses-1year_task-nback_rec-moco_run-1_events.tsv', '../../../sub-MM188/ses-1year/func/sub-MM188_ses-1year_task-nback_rec-unco_run-1_events.tsv', '../../../sub-MM188/ses-baseline/func/sub-MM188_ses-baseline_task-nback_rec-moco_run-1_events.tsv', '../../../sub-MM188/ses-baseline/func/sub-MM188_ses-baseline_task-nback_rec-unco_run-1_events.tsv', '../../../sub-MM193/ses-1year/func/sub-MM193_ses-1year_task-nback_rec-moco_run-1_events.tsv', '../../../sub-MM193/ses-1year/func/sub-MM193_ses-1year_task-nback_rec-unco_run-1_events.tsv', '../../../sub-MM193/ses-baseline/func/sub-MM193_ses-baseline_task-nback_rec-moco_run-1_events.tsv', '../../../sub-MM193/ses-baseline/func/sub-MM193_ses-baseline_task-nback_rec-unco_run-1_events.tsv', '../../../sub-MM195/ses-1year/func/sub-MM195_ses-1year_task-nback_rec-moco_run-1_events.tsv', '../../../sub-MM195/ses-1year/func/sub-MM195_ses-1year_task-nback_rec-unco_run-1_events.tsv', '../../../sub-MM195/ses-baseline/func/sub-MM195_ses-baseline_task-nback_rec-moco_run-1_events.tsv', '../../../sub-MM195/ses-baseline/func/sub-MM195_ses-baseline_task-nback_rec-unco_run-1_events.tsv', '../../../sub-MM196/ses-1year/func/sub-MM196_ses-1year_task-nback_rec-moco_run-1_events.tsv', '../../../sub-MM196/ses-1year/func/sub-MM196_ses-1year_task-nback_rec-unco_run-1_events.tsv', '../../../sub-MM196/ses-baseline/func/sub-MM196_ses-baseline_task-nback_rec-moco_run-1_events.tsv', '../../../sub-MM196/ses-baseline/func/sub-MM196_ses-baseline_task-nback_rec-unco_run-1_events.tsv', '../../../sub-MM197/ses-1year/func/sub-MM197_ses-1year_task-nback_rec-moco_run-1_events.tsv', '../../../sub-MM197/ses-1year/func/sub-MM197_ses-1year_task-nback_rec-unco_run-1_events.tsv', '../../../sub-MM197/ses-baseline/func/sub-MM197_ses-baseline_task-nback_rec-moco_run-1_events.tsv', '../../../sub-MM197/ses-baseline/func/sub-MM197_ses-baseline_task-nback_rec-unco_run-1_events.tsv', '../../../sub-MM198/ses-1year/func/sub-MM198_ses-1year_task-nback_rec-moco_run-1_events.tsv', '../../../sub-MM198/ses-1year/func/sub-MM198_ses-1year_task-nback_rec-unco_run-1_events.tsv', '../../../sub-MM198/ses-baseline/func/sub-MM198_ses-baseline_task-nback_rec-moco_run-1_events.tsv', '../../../sub-MM198/ses-baseline/func/sub-MM198_ses-baseline_task-nback_rec-unco_run-1_events.tsv', '../../../sub-MM199/ses-1year/func/sub-MM199_ses-1year_task-nback_rec-moco_run-1_events.tsv', '../../../sub-MM199/ses-1year/func/sub-MM199_ses-1year_task-nback_rec-unco_run-1_events.tsv', '../../../sub-MM199/ses-baseline/func/sub-MM199_ses-baseline_task-nback_rec-moco_run-1_events.tsv', '../../../sub-MM199/ses-baseline/func/sub-MM199_ses-baseline_task-nback_rec-unco_run-1_events.tsv', '../../../sub-MM207/ses-1year/func/sub-MM207_ses-1year_task-nback_rec-moco_run-1_events.tsv', '../../../sub-MM207/ses-1year/func/sub-MM207_ses-1year_task-nback_rec-unco_run-1_events.tsv', '../../../sub-MM207/ses-baseline/func/sub-MM207_ses-baseline_task-nback_rec-moco_run-1_events.tsv', '../../../sub-MM207/ses-baseline/func/sub-MM207_ses-baseline_task-nback_rec-unco_run-1_events.tsv', '../../../sub-MM217/ses-1year/func/sub-MM217_ses-1year_task-nback_rec-moco_run-1_events.tsv', '../../../sub-MM217/ses-1year/func/sub-MM217_ses-1year_task-nback_rec-unco_run-1_events.tsv', '../../../sub-MM217/ses-baseline/func/sub-MM217_ses-baseline_task-nback_rec-moco_run-1_events.tsv', '../../../sub-MM217/ses-baseline/func/sub-MM217_ses-baseline_task-nback_rec-unco_run-1_events.tsv', '../../../sub-MM221/ses-1year/func/sub-MM221_ses-1year_task-nback_rec-moco_run-1_events.tsv', '../../../sub-MM221/ses-1year/func/sub-MM221_ses-1year_task-nback_rec-unco_run-1_events.tsv', '../../../sub-MM221/ses-baseline/func/sub-MM221_ses-baseline_task-nback_rec-moco_run-1_events.tsv', '../../../sub-MM221/ses-baseline/func/sub-MM221_ses-baseline_task-nback_rec-unco_run-1_events.tsv', '../../../sub-MM224/ses-1year/func/sub-MM224_ses-1year_task-nback_rec-moco_run-1_events.tsv', '../../../sub-MM224/ses-1year/func/sub-MM224_ses-1year_task-nback_rec-unco_run-1_events.tsv', '../../../sub-MM224/ses-baseline/func/sub-MM224_ses-baseline_task-nback_rec-moco_run-1_events.tsv', '../../../sub-MM224/ses-baseline/func/sub-MM224_ses-baseline_task-nback_rec-unco_run-1_events.tsv', '../../../sub-MM227/ses-1year/func/sub-MM227_ses-1year_task-nback_rec-moco_run-1_events.tsv', '../../../sub-MM227/ses-1year/func/sub-MM227_ses-1year_task-nback_rec-unco_run-1_events.tsv', '../../../sub-MM227/ses-baseline/func/sub-MM227_ses-baseline_task-nback_rec-moco_run-1_events.tsv', '../../../sub-MM227/ses-baseline/func/sub-MM227_ses-baseline_task-nback_rec-unco_run-1_events.tsv', '../../../sub-MM228/ses-baseline/func/sub-MM228_ses-baseline_task-nback_rec-moco_run-1_events.tsv', '../../../sub-MM228/ses-baseline/func/sub-MM228_ses-baseline_task-nback_rec-unco_run-1_events.tsv', '../../../sub-MM230/ses-1year/func/sub-MM230_ses-1year_task-nback_rec-moco_run-1_events.tsv', '../../../sub-MM230/ses-1year/func/sub-MM230_ses-1year_task-nback_rec-unco_run-1_events.tsv', '../../../sub-MM230/ses-baseline/func/sub-MM230_ses-baseline_task-nback_rec-moco_run-1_events.tsv', '../../../sub-MM230/ses-baseline/func/sub-MM230_ses-baseline_task-nback_rec-unco_run-1_events.tsv', '../../../sub-MM232/ses-1year/func/sub-MM232_ses-1year_task-nback_rec-moco_run-1_events.tsv', '../../../sub-MM232/ses-1year/func/sub-MM232_ses-1year_task-nback_rec-unco_run-1_events.tsv', '../../../sub-MM232/ses-baseline/func/sub-MM232_ses-baseline_task-nback_rec-moco_run-1_events.tsv', '../../../sub-MM232/ses-baseline/func/sub-MM232_ses-baseline_task-nback_rec-unco_run-1_events.tsv', '../../../sub-MM239/ses-1year/func/sub-MM239_ses-1year_task-nback_rec-moco_run-1_events.tsv', '../../../sub-MM239/ses-1year/func/sub-MM239_ses-1year_task-nback_rec-unco_run-1_events.tsv', '../../../sub-MM239/ses-baseline/func/sub-MM239_ses-baseline_task-nback_rec-moco_run-1_events.tsv', '../../../sub-MM239/ses-baseline/func/sub-MM239_ses-baseline_task-nback_rec-unco_run-1_events.tsv', '../../../sub-MM240/ses-1year/func/sub-MM240_ses-1year_task-nback_rec-moco_run-1_events.tsv', '../../../sub-MM240/ses-1year/func/sub-MM240_ses-1year_task-nback_rec-unco_run-1_events.tsv', '../../../sub-MM240/ses-baseline/func/sub-MM240_ses-baseline_task-nback_rec-moco_run-1_events.tsv', '../../../sub-MM240/ses-baseline/func/sub-MM240_ses-baseline_task-nback_rec-unco_run-1_events.tsv', '../../../sub-MM241/ses-1year/func/sub-MM241_ses-1year_task-nback_rec-moco_run-1_events.tsv', '../../../sub-MM241/ses-1year/func/sub-MM241_ses-1year_task-nback_rec-unco_run-1_events.tsv', '../../../sub-MM241/ses-baseline/func/sub-MM241_ses-baseline_task-nback_rec-moco_run-1_events.tsv', '../../../sub-MM241/ses-baseline/func/sub-MM241_ses-baseline_task-nback_rec-unco_run-1_events.tsv', '../../../sub-MM242/ses-baseline/func/sub-MM242_ses-baseline_task-nback_rec-moco_run-1_events.tsv', '../../../sub-MM242/ses-baseline/func/sub-MM242_ses-baseline_task-nback_rec-unco_run-1_events.tsv', '../../../sub-MM248/ses-1year/func/sub-MM248_ses-1year_task-nback_rec-moco_run-1_events.tsv', '../../../sub-MM248/ses-1year/func/sub-MM248_ses-1year_task-nback_rec-unco_run-1_events.tsv', '../../../sub-MM248/ses-baseline/func/sub-MM248_ses-baseline_task-nback_rec-moco_run-1_events.tsv', '../../../sub-MM248/ses-baseline/func/sub-MM248_ses-baseline_task-nback_rec-unco_run-1_events.tsv', '../../../sub-MM249/ses-1year/func/sub-MM249_ses-1year_task-nback_rec-moco_run-1_events.tsv', '../../../sub-MM249/ses-1year/func/sub-MM249_ses-1year_task-nback_rec-unco_run-1_events.tsv', '../../../sub-MM249/ses-baseline/func/sub-MM249_ses-baseline_task-nback_rec-moco_run-1_events.tsv', '../../../sub-MM249/ses-baseline/func/sub-MM249_ses-baseline_task-nback_rec-unco_run-1_events.tsv', '../../../sub-MM254/ses-1year/func/sub-MM254_ses-1year_task-nback_rec-moco_run-1_events.tsv', '../../../sub-MM254/ses-1year/func/sub-MM254_ses-1year_task-nback_rec-unco_run-1_events.tsv', '../../../sub-MM254/ses-baseline/func/sub-MM254_ses-baseline_task-nback_rec-moco_run-1_events.tsv', '../../../sub-MM254/ses-baseline/func/sub-MM254_ses-baseline_task-nback_rec-unco_run-1_events.tsv', '../../../sub-MM255/ses-baseline/func/sub-MM255_ses-baseline_task-nback_rec-moco_run-1_events.tsv', '../../../sub-MM255/ses-baseline/func/sub-MM255_ses-baseline_task-nback_rec-unco_run-1_events.tsv', '../../../sub-MM256/ses-1year/func/sub-MM256_ses-1year_task-nback_rec-moco_run-1_events.tsv', '../../../sub-MM256/ses-1year/func/sub-MM256_ses-1year_task-nback_rec-unco_run-1_events.tsv', '../../../sub-MM256/ses-baseline/func/sub-MM256_ses-baseline_task-nback_rec-moco_run-1_events.tsv', '../../../sub-MM256/ses-baseline/func/sub-MM256_ses-baseline_task-nback_rec-unco_run-1_events.tsv', '../../../sub-MM261/ses-baseline/func/sub-MM261_ses-baseline_task-nback_rec-moco_run-1_events.tsv', '../../../sub-MM261/ses-baseline/func/sub-MM261_ses-baseline_task-nback_rec-unco_run-1_events.tsv', '../../../sub-MM262/ses-baseline/func/sub-MM262_ses-baseline_task-nback_rec-moco_run-1_events.tsv', '../../../sub-MM262/ses-baseline/func/sub-MM262_ses-baseline_task-nback_rec-unco_run-1_events.tsv', '../../../sub-MM268/ses-baseline/func/sub-MM268_ses-baseline_task-nback_rec-moco_run-1_events.tsv', '../../../sub-MM268/ses-baseline/func/sub-MM268_ses-baseline_task-nback_rec-unco_run-1_events.tsv', '../../../sub-MM269/ses-baseline/func/sub-MM269_ses-baseline_task-nback_rec-moco_run-1_events.tsv', '../../../sub-MM269/ses-baseline/func/sub-MM269_ses-baseline_task-nback_rec-unco_run-1_events.tsv', '../../../sub-MM273/ses-1year/func/sub-MM273_ses-1year_task-nback_rec-moco_run-1_events.tsv', '../../../sub-MM273/ses-1year/func/sub-MM273_ses-1year_task-nback_rec-unco_run-1_events.tsv', '../../../sub-MM273/ses-baseline/func/sub-MM273_ses-baseline_task-nback_rec-moco_run-1_events.tsv', '../../../sub-MM273/ses-baseline/func/sub-MM273_ses-baseline_task-nback_rec-unco_run-1_events.tsv', '../../../sub-MM274/ses-baseline/func/sub-MM274_ses-baseline_task-nback_rec-moco_run-1_events.tsv', '../../../sub-MM274/ses-baseline/func/sub-MM274_ses-baseline_task-nback_rec-unco_run-1_events.tsv', '../../../sub-MM283/ses-baseline/func/sub-MM283_ses-baseline_task-nback_rec-moco_run-1_events.tsv', '../../../sub-MM283/ses-baseline/func/sub-MM283_ses-baseline_task-nback_rec-unco_run-1_events.tsv', '../../../sub-MM284/ses-1year/func/sub-MM284_ses-1year_task-nback_rec-moco_run-1_events.tsv', '../../../sub-MM284/ses-1year/func/sub-MM284_ses-1year_task-nback_rec-unco_run-1_events.tsv', '../../../sub-MM284/ses-baseline/func/sub-MM284_ses-baseline_task-nback_rec-moco_run-1_events.tsv', '../../../sub-MM284/ses-baseline/func/sub-MM284_ses-baseline_task-nback_rec-unco_run-1_events.tsv', '../../../sub-MM286/ses-1year/func/sub-MM286_ses-1year_task-nback_rec-moco_run-1_events.tsv', '../../../sub-MM286/ses-1year/func/sub-MM286_ses-1year_task-nback_rec-moco_run-2_events.tsv', '../../../sub-MM286/ses-1year/func/sub-MM286_ses-1year_task-nback_rec-unco_run-1_events.tsv', '../../../sub-MM286/ses-1year/func/sub-MM286_ses-1year_task-nback_rec-unco_run-2_events.tsv', '../../../sub-MM286/ses-baseline/func/sub-MM286_ses-baseline_task-nback_rec-moco_run-1_events.tsv', '../../../sub-MM286/ses-baseline/func/sub-MM286_ses-baseline_task-nback_rec-unco_run-1_events.tsv', '../../../sub-MM288/ses-baseline/func/sub-MM288_ses-baseline_task-nback_rec-moco_run-1_events.tsv', '../../../sub-MM288/ses-baseline/func/sub-MM288_ses-baseline_task-nback_rec-unco_run-1_events.tsv', '../../../sub-MM289/ses-baseline/func/sub-MM289_ses-baseline_task-nback_rec-moco_run-1_events.tsv', '../../../sub-MM289/ses-baseline/func/sub-MM289_ses-baseline_task-nback_rec-unco_run-1_events.tsv', '../../../sub-MM301/ses-1year/func/sub-MM301_ses-1year_task-nback_rec-moco_run-1_events.tsv', '../../../sub-MM301/ses-1year/func/sub-MM301_ses-1year_task-nback_rec-unco_run-1_events.tsv', '../../../sub-MM301/ses-baseline/func/sub-MM301_ses-baseline_task-nback_rec-moco_run-1_events.tsv', '../../../sub-MM301/ses-baseline/func/sub-MM301_ses-baseline_task-nback_rec-unco_run-1_events.tsv', '../../../sub-MM307/ses-baseline/func/sub-MM307_ses-baseline_task-nback_rec-moco_run-1_events.tsv', '../../../sub-MM307/ses-baseline/func/sub-MM307_ses-baseline_task-nback_rec-unco_run-1_events.tsv', '../../../sub-MM314/ses-baseline/func/sub-MM314_ses-baseline_task-nback_rec-moco_run-1_events.tsv', '../../../sub-MM314/ses-baseline/func/sub-MM314_ses-baseline_task-nback_rec-unco_run-1_events.tsv', '../../../sub-MM315/ses-1year/func/sub-MM315_ses-1year_task-nback_rec-moco_run-1_events.tsv', '../../../sub-MM315/ses-1year/func/sub-MM315_ses-1year_task-nback_rec-unco_run-1_events.tsv', '../../../sub-MM315/ses-baseline/func/sub-MM315_ses-baseline_task-nback_rec-moco_run-1_events.tsv', '../../../sub-MM315/ses-baseline/func/sub-MM315_ses-baseline_task-nback_rec-unco_run-1_events.tsv', '../../../sub-MM330/ses-1year/func/sub-MM330_ses-1year_task-nback_rec-moco_run-1_events.tsv', '../../../sub-MM330/ses-1year/func/sub-MM330_ses-1year_task-nback_rec-unco_run-1_events.tsv', '../../../sub-MM330/ses-baseline/func/sub-MM330_ses-baseline_task-nback_rec-moco_run-1_events.tsv', '../../../sub-MM330/ses-baseline/func/sub-MM330_ses-baseline_task-nback_rec-unco_run-1_events.tsv', '../../../sub-MM334/ses-1year/func/sub-MM334_ses-1year_task-nback_rec-unco_run-1_events.tsv', '../../../sub-MM334/ses-baseline/func/sub-MM334_ses-baseline_task-nback_rec-moco_run-1_events.tsv', '../../../sub-MM334/ses-baseline/func/sub-MM334_ses-baseline_task-nback_rec-unco_run-1_events.tsv', '../../../sub-MM340/ses-baseline/func/sub-MM340_ses-baseline_task-nback_rec-moco_run-1_events.tsv', '../../../sub-MM340/ses-baseline/func/sub-MM340_ses-baseline_task-nback_rec-unco_run-1_events.tsv']\n"
     ]
    }
   ],
   "source": [
    "print(nback_events_locations)"
   ]
  },
  {
   "cell_type": "code",
   "execution_count": 15,
   "id": "a3cba436",
   "metadata": {},
   "outputs": [],
   "source": [
    "#assign all events.tsv files the block times that we want to analyze\n",
    "#set all other events.tsv files as empty files\n",
    "#we want only the ones listed in the nifti_to_behavioral_run_match.tsv file since those are the ones corresponding to the nback run that was acquired last\n",
    "\n",
    "#empty df \n",
    "empty_df = pd.DataFrame({'onset' : [],'duration' : [],'trial_type' : []})\n",
    "\n",
    "#pull from nifti_to_behavioral_run_match.tsv\n",
    "#make sure we don't read in the missing files (marked by 'none')\n",
    "nifti_to_behavioral_run_match = pd.read_csv(\"nifti_to_behavioral_run_match.tsv\", sep = '\\t')\n",
    "desired_nifti_files = list(nifti_to_behavioral_run_match['nifti_filename'])\n",
    "desired_nifti_events_files = [file.split('bold')[0]+'events.tsv' for file in desired_nifti_files if file != 'none']\n",
    "\n",
    "#for all nback events.tsv files, only add the stimulus timing if we are dealing with the correct run as listed in the nifti_to_behavioral_run_match.tsv file\n",
    "#if nback events.tsv file but the run is not listed in the nifti_to_behavioral_run_match.tsv file then set events.tsv to empty tsv with only the correct headings\n",
    "for file_path in nback_events_locations:\n",
    "    file = file_path.split('/')[-1]\n",
    "    if 'nback' in file:\n",
    "        if file in desired_nifti_events_files:\n",
    "            events_df.to_csv(file_path, index = False, header=True, sep='\\t')\n",
    "        else:\n",
    "            empty_df.to_csv(file_path, index = False, header=True, sep='\\t')\n",
    "            \n",
    "\n"
   ]
  },
  {
   "cell_type": "code",
   "execution_count": null,
   "id": "eed39f67",
   "metadata": {},
   "outputs": [],
   "source": []
  }
 ],
 "metadata": {
  "kernelspec": {
   "display_name": "Python 3",
   "language": "python",
   "name": "python3"
  },
  "language_info": {
   "codemirror_mode": {
    "name": "ipython",
    "version": 3
   },
   "file_extension": ".py",
   "mimetype": "text/x-python",
   "name": "python",
   "nbconvert_exporter": "python",
   "pygments_lexer": "ipython3",
   "version": "3.9.13"
  }
 },
 "nbformat": 4,
 "nbformat_minor": 5
}
