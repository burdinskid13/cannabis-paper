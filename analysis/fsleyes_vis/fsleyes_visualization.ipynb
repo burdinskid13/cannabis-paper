{
 "cells": [
  {
   "cell_type": "code",
   "execution_count": null,
   "id": "0cad1f48",
   "metadata": {},
   "outputs": [],
   "source": [
    "import os\n",
    "import glob"
   ]
  },
  {
   "cell_type": "code",
   "execution_count": null,
   "id": "5eb67315",
   "metadata": {},
   "outputs": [],
   "source": [
    "def save_fsleyes_vis(Anat,Effect,Stat,Out,Threshold):\n",
    "    #6 would be above max/min for all effect sizes (all very similar)\n",
    "    #8.5 would be above max/min for all stat sizes (sst and nback very similar, mid lower)\n",
    "    ! fsleyes render --neuroOrientation --outfile $Out -sz  500 500 \\\n",
    "       --selectedOverlay 1 --scene ortho --worldLoc 0 0 0 \\\n",
    "       --zcentre  0  0 --showLocation no \\\n",
    "       --layout horizontal --hidex --hidey --hideCursor \\\n",
    "       --showColourBar --colourBarLocation right --colourBarLabelSide top-left --colourBarSize 85.0 --labelSize 14 \\\n",
    "       $Anat --overlayType volume  \\\n",
    "       $Effect --name \"\" --overlayType volume --modulateImage $Stat --cmap red-yellow --negativeCmap blue-lightblue --useNegativeCmap --displayRange 0 6 --clippingRange 0 6 --modulateRange 0.0 8.5 --modulateAlpha \\\n",
    "       $Stat --overlayType mask --alpha 100.0 --threshold -$Threshold $Threshold --outline --maskColour 0 0 0\n",
    "    return"
   ]
  },
  {
   "cell_type": "code",
   "execution_count": null,
   "id": "79139514",
   "metadata": {},
   "outputs": [],
   "source": [
    "def get_files(group,ses,task,contrast):\n",
    "    \n",
    "    if len(glob.glob(f'../../../derivatives/task_analysis_volume/group_level/group-{group}/ses-{ses}/task-{task}/group-{group}_ses-{ses}_task-{task}_rec-unco_contrast-{contrast}_effect_size.nii.gz')) == 0:\n",
    "        print('No effect size maps, so cannot generate fsleyes output for: '+' '.join([group,ses,task,contrast]))\n",
    "        return (None, None, None, None, None)\n",
    "\n",
    "    \n",
    "    #get anatfile, statmap and effectmap\n",
    "    anat_file='../templates/tpl-MNI152NLin6Asym_res-01_desc-brain_T1w.nii.gz'\n",
    "    effect_file = f'../../../derivatives/task_analysis_volume/group_level/group-{group}/ses-{ses}/task-{task}/group-{group}_ses-{ses}_task-{task}_rec-unco_contrast-{contrast}_effect_size.nii.gz'\n",
    "    stat_file = f'../../../derivatives/task_analysis_volume/group_level/group-{group}/ses-{ses}/task-{task}/group-{group}_ses-{ses}_task-{task}_rec-unco_contrast-{contrast}_z_score.nii.gz'\n",
    "\n",
    "    #get threshold\n",
    "    threshold_file = f'../../../derivatives/task_analysis_volume/group_level/group-{group}/ses-{ses}/task-{task}/group-{group}_ses-{ses}_task-{task}_rec-unco_contrast-{contrast}_FDR_threshold.txt'\n",
    "    with open(threshold_file) as f:\n",
    "        threshold = float(f.readline().strip('\\n'))\n",
    "    rounded_threshold = round(threshold,2)\n",
    "\n",
    "    #get participant count\n",
    "    participants_file = f'../../../derivatives/task_analysis_volume/group_level/group-{group}/ses-{ses}/task-{task}/group-{group}_ses-{ses}_task-{task}_rec-unco_contrast-{contrast}_participants.txt'\n",
    "    with open(participants_file) as f:\n",
    "        part_count = len(f.readlines())\n",
    "\n",
    "    #create paths to output dir if not exist\n",
    "    derivatives_path = '../../../derivatives'\n",
    "    nilearn_output_path = os.path.join(derivatives_path, 'task_analysis_volume','visualization','raw_figures')\n",
    "    if not os.path.isdir(nilearn_output_path):\n",
    "        os.makedirs (nilearn_output_path)\n",
    "\n",
    "    #make outfile path\n",
    "    out_file = f'../../../derivatives/task_analysis_volume/visualization/raw_figures/group-{group}_ses-{ses}_task-{task}_contrast-{contrast}_threshold-{rounded_threshold}_n-{part_count}_display-axial.png'\n",
    "\n",
    "    if threshold > 100:\n",
    "        print('Threshold is infinity, so cannot generate fsleyes output for: '+' '.join([group,ses,task,contrast]))\n",
    "        return (None, None, None, None, None)\n",
    "\n",
    "    return (anat_file,effect_file,stat_file,out_file,threshold)"
   ]
  },
  {
   "cell_type": "code",
   "execution_count": null,
   "id": "108f374b",
   "metadata": {},
   "outputs": [],
   "source": [
    "task='sst'\n",
    "sessions = ['baseline','1year']\n",
    "groups = ['HC','MM']\n",
    "\n",
    "\n",
    "if task == 'mid':\n",
    "    contrasts=['HiWin+LoWin-HiNoWin-LoNoWin','HiLoss+LoLoss-AvoidHiLoss-AvoidLoLoss']\n",
    "\n",
    "elif task == 'sst':\n",
    "    contrasts=['SuccStop-Go','UnsuccStop-Go','UnsuccStop-SuccStop']\n",
    "    \n",
    "elif task == 'nback':\n",
    "    contrasts=['twoback-zeroback']\n",
    "    \n",
    "    \n",
    "for ses in sessions:\n",
    "    for group in groups:        \n",
    "        for contrast in contrasts:\n",
    "            \n",
    "            anat_file,effect_file,stat_file,out_file,threshold = get_files(group,ses,task,contrast)\n",
    "            \n",
    "            #only call if input found \n",
    "            if effect_file:\n",
    "                save_fsleyes_vis(anat_file,effect_file,stat_file,out_file,threshold)"
   ]
  },
  {
   "cell_type": "code",
   "execution_count": null,
   "id": "674d30c0",
   "metadata": {},
   "outputs": [],
   "source": []
  }
 ],
 "metadata": {
  "kernelspec": {
   "display_name": "Python 3 (ipykernel)",
   "language": "python",
   "name": "python3"
  },
  "language_info": {
   "codemirror_mode": {
    "name": "ipython",
    "version": 3
   },
   "file_extension": ".py",
   "mimetype": "text/x-python",
   "name": "python",
   "nbconvert_exporter": "python",
   "pygments_lexer": "ipython3",
   "version": "3.9.16"
  }
 },
 "nbformat": 4,
 "nbformat_minor": 5
}
